{
  "cells": [
    {
      "cell_type": "markdown",
      "id": "416619cc-92db-4b3b-8b7d-1d6e7baa5264",
      "metadata": {
        "id": "416619cc-92db-4b3b-8b7d-1d6e7baa5264"
      },
      "source": [
        "# Task: Using the K-nearest neighbors algorithm to predict how many points NBA players scored in the 2013-2014 season."
      ]
    },
    {
      "cell_type": "code",
      "execution_count": null,
      "id": "6bd06bdc-7089-42ae-af10-d4f3e464dd04",
      "metadata": {
        "id": "6bd06bdc-7089-42ae-af10-d4f3e464dd04"
      },
      "outputs": [],
      "source": [
        "# importing necessary libraries\n",
        "import pandas as pd\n",
        "import numpy as np\n",
        "from scipy.spatial import distance\n",
        "import random\n",
        "from numpy.random import permutation\n",
        "from sklearn.neighbors import KNeighborsRegressor\n",
        "import math\n",
        "import random\n",
        "from numpy.random import permutation"
      ]
    },
    {
      "cell_type": "code",
      "execution_count": null,
      "id": "4a5862c0-8645-4deb-a435-06734614aef5",
      "metadata": {
        "id": "4a5862c0-8645-4deb-a435-06734614aef5",
        "outputId": "b3627912-6734-4db0-ee1a-ceefc8555bdb"
      },
      "outputs": [
        {
          "name": "stdout",
          "output_type": "stream",
          "text": [
            "             player pos  age bref_team_id   g  gs    mp   fg   fga    fg.  \\\n",
            "0        Quincy Acy  SF   23          TOT  63   0   847   66   141  0.468   \n",
            "1      Steven Adams   C   20          OKC  81  20  1197   93   185  0.503   \n",
            "2       Jeff Adrien  PF   27          TOT  53  12   961  143   275  0.520   \n",
            "3     Arron Afflalo  SG   28          ORL  73  73  2552  464  1011  0.459   \n",
            "4     Alexis Ajinca   C   25          NOP  56  30   951  136   249  0.546   \n",
            "..              ...  ..  ...          ...  ..  ..   ...  ...   ...    ...   \n",
            "476     Tony Wroten  SG   20          PHI  72  16  1765  345   808  0.427   \n",
            "477      Nick Young  SG   28          LAL  64   9  1810  387   889  0.435   \n",
            "478  Thaddeus Young  PF   25          PHI  79  78  2718  582  1283  0.454   \n",
            "479     Cody Zeller   C   21          CHA  82   3  1416  172   404  0.426   \n",
            "480    Tyler Zeller   C   24          CLE  70   9  1049  156   290  0.538   \n",
            "\n",
            "     ...  drb  trb  ast  stl  blk  tov   pf   pts     season  season_end  \n",
            "0    ...  144  216   28   23   26   30  122   171  2013-2014        2013  \n",
            "1    ...  190  332   43   40   57   71  203   265  2013-2014        2013  \n",
            "2    ...  204  306   38   24   36   39  108   362  2013-2014        2013  \n",
            "3    ...  230  262  248   35    3  146  136  1330  2013-2014        2013  \n",
            "4    ...  183  277   40   23   46   63  187   328  2013-2014        2013  \n",
            "..   ...  ...  ...  ...  ...  ...  ...  ...   ...        ...         ...  \n",
            "476  ...  159  228  217   78   16  204  151   939  2013-2014        2013  \n",
            "477  ...  137  166   95   46   12   95  156  1144  2013-2014        2013  \n",
            "478  ...  310  476  182  167   36  165  213  1417  2013-2014        2013  \n",
            "479  ...  235  353   92   40   41   87  170   490  2013-2014        2013  \n",
            "480  ...  179  282   36   18   38   60  137   399  2013-2014        2013  \n",
            "\n",
            "[481 rows x 31 columns]\n"
          ]
        }
      ],
      "source": [
        "#  Loading the data\n",
        "df=pd.read_csv(\"nba_2013.csv\")\n",
        "print(df)"
      ]
    },
    {
      "cell_type": "code",
      "execution_count": null,
      "id": "dc7752ed-d605-4672-a68c-2f541815e2d7",
      "metadata": {
        "id": "dc7752ed-d605-4672-a68c-2f541815e2d7",
        "outputId": "9a126d2d-8503-4016-af6f-7ea80013a1ba"
      },
      "outputs": [
        {
          "name": "stdout",
          "output_type": "stream",
          "text": [
            "Index(['player', 'pos', 'age', 'bref_team_id', 'g', 'gs', 'mp', 'fg', 'fga',\n",
            "       'fg.', 'x3p', 'x3pa', 'x3p.', 'x2p', 'x2pa', 'x2p.', 'efg.', 'ft',\n",
            "       'fta', 'ft.', 'orb', 'drb', 'trb', 'ast', 'stl', 'blk', 'tov', 'pf',\n",
            "       'pts', 'season', 'season_end'],\n",
            "      dtype='object')\n"
          ]
        }
      ],
      "source": [
        "# We want to get the all columns of the data\n",
        "print(df.columns)"
      ]
    },
    {
      "cell_type": "code",
      "execution_count": null,
      "id": "6a64788a-1ceb-437e-9173-e46afd353d19",
      "metadata": {
        "id": "6a64788a-1ceb-437e-9173-e46afd353d19",
        "outputId": "8944536c-81f7-49a4-8190-6e74c35e41c6"
      },
      "outputs": [
        {
          "data": {
            "text/plain": [
              "(481, 31)"
            ]
          },
          "execution_count": 4,
          "metadata": {},
          "output_type": "execute_result"
        }
      ],
      "source": [
        "# Number of rows and columns\n",
        "df.shape"
      ]
    },
    {
      "cell_type": "code",
      "execution_count": null,
      "id": "81482524-9891-4531-a6be-d696c0b66c82",
      "metadata": {
        "id": "81482524-9891-4531-a6be-d696c0b66c82",
        "outputId": "a8ad4d7a-5137-4a62-ee77-30f0516dd09c"
      },
      "outputs": [
        {
          "data": {
            "text/plain": [
              "<bound method DataFrame.info of              player pos  age bref_team_id   g  gs    mp   fg   fga    fg.  \\\n",
              "0        Quincy Acy  SF   23          TOT  63   0   847   66   141  0.468   \n",
              "1      Steven Adams   C   20          OKC  81  20  1197   93   185  0.503   \n",
              "2       Jeff Adrien  PF   27          TOT  53  12   961  143   275  0.520   \n",
              "3     Arron Afflalo  SG   28          ORL  73  73  2552  464  1011  0.459   \n",
              "4     Alexis Ajinca   C   25          NOP  56  30   951  136   249  0.546   \n",
              "..              ...  ..  ...          ...  ..  ..   ...  ...   ...    ...   \n",
              "476     Tony Wroten  SG   20          PHI  72  16  1765  345   808  0.427   \n",
              "477      Nick Young  SG   28          LAL  64   9  1810  387   889  0.435   \n",
              "478  Thaddeus Young  PF   25          PHI  79  78  2718  582  1283  0.454   \n",
              "479     Cody Zeller   C   21          CHA  82   3  1416  172   404  0.426   \n",
              "480    Tyler Zeller   C   24          CLE  70   9  1049  156   290  0.538   \n",
              "\n",
              "     ...  drb  trb  ast  stl  blk  tov   pf   pts     season  season_end  \n",
              "0    ...  144  216   28   23   26   30  122   171  2013-2014        2013  \n",
              "1    ...  190  332   43   40   57   71  203   265  2013-2014        2013  \n",
              "2    ...  204  306   38   24   36   39  108   362  2013-2014        2013  \n",
              "3    ...  230  262  248   35    3  146  136  1330  2013-2014        2013  \n",
              "4    ...  183  277   40   23   46   63  187   328  2013-2014        2013  \n",
              "..   ...  ...  ...  ...  ...  ...  ...  ...   ...        ...         ...  \n",
              "476  ...  159  228  217   78   16  204  151   939  2013-2014        2013  \n",
              "477  ...  137  166   95   46   12   95  156  1144  2013-2014        2013  \n",
              "478  ...  310  476  182  167   36  165  213  1417  2013-2014        2013  \n",
              "479  ...  235  353   92   40   41   87  170   490  2013-2014        2013  \n",
              "480  ...  179  282   36   18   38   60  137   399  2013-2014        2013  \n",
              "\n",
              "[481 rows x 31 columns]>"
            ]
          },
          "execution_count": 5,
          "metadata": {},
          "output_type": "execute_result"
        }
      ],
      "source": [
        "df.info"
      ]
    },
    {
      "cell_type": "code",
      "execution_count": null,
      "id": "bac9d4e6-daca-4ed5-9a2b-e3b99d72de9c",
      "metadata": {
        "id": "bac9d4e6-daca-4ed5-9a2b-e3b99d72de9c"
      },
      "outputs": [],
      "source": [
        "# From the given data we want to replace all the NA values and inconsistent numbers.\n",
        "new_df = df.replace([np.inf, -np.inf], np.NaN)"
      ]
    },
    {
      "cell_type": "code",
      "execution_count": null,
      "id": "e603a85e-7f9d-4c0c-8279-448316cf9f98",
      "metadata": {
        "id": "e603a85e-7f9d-4c0c-8279-448316cf9f98"
      },
      "outputs": [],
      "source": [
        "new_df.dropna(inplace=True)"
      ]
    },
    {
      "cell_type": "code",
      "execution_count": null,
      "id": "37ddd744-bc42-464a-9325-bdd415d84945",
      "metadata": {
        "id": "37ddd744-bc42-464a-9325-bdd415d84945",
        "outputId": "35620b72-bf52-43bc-b96d-5f5f391b7c99"
      },
      "outputs": [
        {
          "data": {
            "text/html": [
              "<div>\n",
              "<style scoped>\n",
              "    .dataframe tbody tr th:only-of-type {\n",
              "        vertical-align: middle;\n",
              "    }\n",
              "\n",
              "    .dataframe tbody tr th {\n",
              "        vertical-align: top;\n",
              "    }\n",
              "\n",
              "    .dataframe thead th {\n",
              "        text-align: right;\n",
              "    }\n",
              "</style>\n",
              "<table border=\"1\" class=\"dataframe\">\n",
              "  <thead>\n",
              "    <tr style=\"text-align: right;\">\n",
              "      <th></th>\n",
              "      <th>player</th>\n",
              "      <th>pos</th>\n",
              "      <th>age</th>\n",
              "      <th>bref_team_id</th>\n",
              "      <th>g</th>\n",
              "      <th>gs</th>\n",
              "      <th>mp</th>\n",
              "      <th>fg</th>\n",
              "      <th>fga</th>\n",
              "      <th>fg.</th>\n",
              "      <th>...</th>\n",
              "      <th>drb</th>\n",
              "      <th>trb</th>\n",
              "      <th>ast</th>\n",
              "      <th>stl</th>\n",
              "      <th>blk</th>\n",
              "      <th>tov</th>\n",
              "      <th>pf</th>\n",
              "      <th>pts</th>\n",
              "      <th>season</th>\n",
              "      <th>season_end</th>\n",
              "    </tr>\n",
              "  </thead>\n",
              "  <tbody>\n",
              "    <tr>\n",
              "      <th>0</th>\n",
              "      <td>Quincy Acy</td>\n",
              "      <td>SF</td>\n",
              "      <td>23</td>\n",
              "      <td>TOT</td>\n",
              "      <td>63</td>\n",
              "      <td>0</td>\n",
              "      <td>847</td>\n",
              "      <td>66</td>\n",
              "      <td>141</td>\n",
              "      <td>0.468</td>\n",
              "      <td>...</td>\n",
              "      <td>144</td>\n",
              "      <td>216</td>\n",
              "      <td>28</td>\n",
              "      <td>23</td>\n",
              "      <td>26</td>\n",
              "      <td>30</td>\n",
              "      <td>122</td>\n",
              "      <td>171</td>\n",
              "      <td>2013-2014</td>\n",
              "      <td>2013</td>\n",
              "    </tr>\n",
              "    <tr>\n",
              "      <th>3</th>\n",
              "      <td>Arron Afflalo</td>\n",
              "      <td>SG</td>\n",
              "      <td>28</td>\n",
              "      <td>ORL</td>\n",
              "      <td>73</td>\n",
              "      <td>73</td>\n",
              "      <td>2552</td>\n",
              "      <td>464</td>\n",
              "      <td>1011</td>\n",
              "      <td>0.459</td>\n",
              "      <td>...</td>\n",
              "      <td>230</td>\n",
              "      <td>262</td>\n",
              "      <td>248</td>\n",
              "      <td>35</td>\n",
              "      <td>3</td>\n",
              "      <td>146</td>\n",
              "      <td>136</td>\n",
              "      <td>1330</td>\n",
              "      <td>2013-2014</td>\n",
              "      <td>2013</td>\n",
              "    </tr>\n",
              "    <tr>\n",
              "      <th>4</th>\n",
              "      <td>Alexis Ajinca</td>\n",
              "      <td>C</td>\n",
              "      <td>25</td>\n",
              "      <td>NOP</td>\n",
              "      <td>56</td>\n",
              "      <td>30</td>\n",
              "      <td>951</td>\n",
              "      <td>136</td>\n",
              "      <td>249</td>\n",
              "      <td>0.546</td>\n",
              "      <td>...</td>\n",
              "      <td>183</td>\n",
              "      <td>277</td>\n",
              "      <td>40</td>\n",
              "      <td>23</td>\n",
              "      <td>46</td>\n",
              "      <td>63</td>\n",
              "      <td>187</td>\n",
              "      <td>328</td>\n",
              "      <td>2013-2014</td>\n",
              "      <td>2013</td>\n",
              "    </tr>\n",
              "    <tr>\n",
              "      <th>6</th>\n",
              "      <td>LaMarcus Aldridge</td>\n",
              "      <td>PF</td>\n",
              "      <td>28</td>\n",
              "      <td>POR</td>\n",
              "      <td>69</td>\n",
              "      <td>69</td>\n",
              "      <td>2498</td>\n",
              "      <td>652</td>\n",
              "      <td>1423</td>\n",
              "      <td>0.458</td>\n",
              "      <td>...</td>\n",
              "      <td>599</td>\n",
              "      <td>765</td>\n",
              "      <td>178</td>\n",
              "      <td>63</td>\n",
              "      <td>68</td>\n",
              "      <td>123</td>\n",
              "      <td>147</td>\n",
              "      <td>1603</td>\n",
              "      <td>2013-2014</td>\n",
              "      <td>2013</td>\n",
              "    </tr>\n",
              "    <tr>\n",
              "      <th>7</th>\n",
              "      <td>Lavoy Allen</td>\n",
              "      <td>PF</td>\n",
              "      <td>24</td>\n",
              "      <td>TOT</td>\n",
              "      <td>65</td>\n",
              "      <td>2</td>\n",
              "      <td>1072</td>\n",
              "      <td>134</td>\n",
              "      <td>300</td>\n",
              "      <td>0.447</td>\n",
              "      <td>...</td>\n",
              "      <td>192</td>\n",
              "      <td>311</td>\n",
              "      <td>71</td>\n",
              "      <td>24</td>\n",
              "      <td>33</td>\n",
              "      <td>44</td>\n",
              "      <td>126</td>\n",
              "      <td>303</td>\n",
              "      <td>2013-2014</td>\n",
              "      <td>2013</td>\n",
              "    </tr>\n",
              "  </tbody>\n",
              "</table>\n",
              "<p>5 rows × 31 columns</p>\n",
              "</div>"
            ],
            "text/plain": [
              "              player pos  age bref_team_id   g  gs    mp   fg   fga    fg.  \\\n",
              "0         Quincy Acy  SF   23          TOT  63   0   847   66   141  0.468   \n",
              "3      Arron Afflalo  SG   28          ORL  73  73  2552  464  1011  0.459   \n",
              "4      Alexis Ajinca   C   25          NOP  56  30   951  136   249  0.546   \n",
              "6  LaMarcus Aldridge  PF   28          POR  69  69  2498  652  1423  0.458   \n",
              "7        Lavoy Allen  PF   24          TOT  65   2  1072  134   300  0.447   \n",
              "\n",
              "   ...  drb  trb  ast  stl  blk  tov   pf   pts     season  season_end  \n",
              "0  ...  144  216   28   23   26   30  122   171  2013-2014        2013  \n",
              "3  ...  230  262  248   35    3  146  136  1330  2013-2014        2013  \n",
              "4  ...  183  277   40   23   46   63  187   328  2013-2014        2013  \n",
              "6  ...  599  765  178   63   68  123  147  1603  2013-2014        2013  \n",
              "7  ...  192  311   71   24   33   44  126   303  2013-2014        2013  \n",
              "\n",
              "[5 rows x 31 columns]"
            ]
          },
          "execution_count": 8,
          "metadata": {},
          "output_type": "execute_result"
        }
      ],
      "source": [
        "new_df.head()"
      ]
    },
    {
      "cell_type": "code",
      "execution_count": null,
      "id": "7817cfbd-7ddc-4dcf-a360-b8e49aeec406",
      "metadata": {
        "id": "7817cfbd-7ddc-4dcf-a360-b8e49aeec406"
      },
      "outputs": [],
      "source": [
        "new_df_filter = new_df.isin([np.nan, np.inf, -np.inf])"
      ]
    },
    {
      "cell_type": "code",
      "execution_count": null,
      "id": "5266774d-7fec-42d0-a44b-8f16ceea82f9",
      "metadata": {
        "id": "5266774d-7fec-42d0-a44b-8f16ceea82f9"
      },
      "outputs": [],
      "source": [
        "new_df = new_df[~new_df_filter]"
      ]
    },
    {
      "cell_type": "code",
      "execution_count": null,
      "id": "bf5be7cd-1455-4bc8-99c5-093aee45e410",
      "metadata": {
        "id": "bf5be7cd-1455-4bc8-99c5-093aee45e410"
      },
      "outputs": [],
      "source": [
        "new_df.dropna(inplace=True)"
      ]
    },
    {
      "cell_type": "code",
      "execution_count": null,
      "id": "085147ad-c005-43bf-af12-aa8939ba4672",
      "metadata": {
        "id": "085147ad-c005-43bf-af12-aa8939ba4672"
      },
      "outputs": [],
      "source": [
        "# Selecting LeBron James from our given dataset as we want to find the most similar player to LeBron James. \n",
        "selected_player = new_df[new_df[\"player\"] == \"LeBron James\"].iloc[0]"
      ]
    },
    {
      "cell_type": "code",
      "execution_count": null,
      "id": "453a2ab4-543c-4f3e-9341-9f7fed845ff7",
      "metadata": {
        "id": "453a2ab4-543c-4f3e-9341-9f7fed845ff7"
      },
      "outputs": [],
      "source": [
        "# distance_columns used to find the euclidean distance so for that we need only numeric columns\n",
        "distance_columns = ['age', 'g', 'gs', 'mp', 'fg', 'fga', 'fg.', 'x3p', 'x3pa', 'x3p.', 'x2p', 'x2pa', 'x2p.', 'efg.', 'ft', 'fta', 'ft.', 'orb', 'drb', 'trb', 'ast', 'stl', 'blk', 'tov', 'pf', 'pts']"
      ]
    },
    {
      "cell_type": "code",
      "execution_count": null,
      "id": "780edec4-3ddd-4457-b904-dbebb32d8a0b",
      "metadata": {
        "id": "780edec4-3ddd-4457-b904-dbebb32d8a0b"
      },
      "outputs": [],
      "source": [
        "def euclidean_distance(row):\n",
        "    \"\"\"\n",
        "    A simple euclidean distance function\n",
        "    \"\"\"\n",
        "    inner_value = 0\n",
        "    for k in distance_columns:\n",
        "        inner_value += (row[k] - selected_player[k]) ** 2\n",
        "    return math.sqrt(inner_value)"
      ]
    },
    {
      "cell_type": "code",
      "execution_count": null,
      "id": "de5268f1-fc32-4484-ba53-d880ebcfe44f",
      "metadata": {
        "id": "de5268f1-fc32-4484-ba53-d880ebcfe44f"
      },
      "outputs": [],
      "source": [
        "# Now we find the distance from each player in the dataset to lebron.\n",
        "lebron_distance = new_df.apply(euclidean_distance, axis=1)"
      ]
    },
    {
      "cell_type": "code",
      "execution_count": null,
      "id": "47edb655-37aa-47f6-aaa4-0d34cf5734f2",
      "metadata": {
        "id": "47edb655-37aa-47f6-aaa4-0d34cf5734f2"
      },
      "outputs": [],
      "source": [
        "# Now we select only the numeric columns from our dataset\n",
        "new_df_numeric = new_df[distance_columns]"
      ]
    },
    {
      "cell_type": "code",
      "execution_count": null,
      "id": "def3e147-e964-41f1-b167-fa05303f85e5",
      "metadata": {
        "id": "def3e147-e964-41f1-b167-fa05303f85e5"
      },
      "outputs": [],
      "source": [
        "# Now we normalize all the numeric columns so that all the values can come upto the same scale\n",
        "new_df_normalized = (new_df_numeric - new_df_numeric.mean()) / new_df_numeric.std()"
      ]
    },
    {
      "cell_type": "markdown",
      "id": "1ab0d4cb-53f1-4222-bbf6-68b685a8dc41",
      "metadata": {
        "id": "1ab0d4cb-53f1-4222-bbf6-68b685a8dc41"
      },
      "source": [
        "### Finding the Nearest neighbour"
      ]
    },
    {
      "cell_type": "code",
      "execution_count": null,
      "id": "22240a41-e01c-4722-9961-e024cc2bef46",
      "metadata": {
        "id": "22240a41-e01c-4722-9961-e024cc2bef46"
      },
      "outputs": [],
      "source": [
        "# Now we fill in NA values in nba_normalized\n",
        "new_df_normalized.fillna(0, inplace=True)\n",
        "\n",
        "# Find the normalized vector for lebron james.\n",
        "lebron_normalized = new_df_normalized[new_df[\"player\"] == \"LeBron James\"]\n",
        "\n",
        "# Find the distance between lebron james and everyone else.\n",
        "euclidean_distances = new_df_normalized.apply(lambda row: distance.euclidean(row, lebron_normalized), axis=1)\n",
        "\n",
        "# Create a new dataframe with distances and sort them in a ascending order.\n",
        "distance_frame = pd.DataFrame(data={\"dist\": euclidean_distances, \"idx\": euclidean_distances.index})\n",
        "distance_frame.sort_values(\"dist\", inplace=True)\n",
        "\n",
        "# Now the lowest distance to lebron is lebron, so we want to find the second smallest distance \n",
        "# it will be most similar non-lebron player\n",
        "second_smallest = distance_frame.iloc[1][\"idx\"]\n",
        "most_similar_to_lebron = new_df.loc[int(second_smallest)][\"player\"]"
      ]
    },
    {
      "cell_type": "markdown",
      "id": "7158d75a-08cf-4d1b-a514-751b1ba015d3",
      "metadata": {
        "id": "7158d75a-08cf-4d1b-a514-751b1ba015d3"
      },
      "source": [
        "## Generating train test splits"
      ]
    },
    {
      "cell_type": "code",
      "execution_count": null,
      "id": "f8b86663-5fab-49ed-bcca-6c1f167d1906",
      "metadata": {
        "id": "f8b86663-5fab-49ed-bcca-6c1f167d1906"
      },
      "outputs": [],
      "source": [
        "x = new_df.iloc[:,[2,4,5,6,7,8,9,10,11,12,13,14,15,16,17,18,19,20,21,22,23,24,25,26,27]].values\n",
        "y = new_df.iloc[:,28].values"
      ]
    },
    {
      "cell_type": "code",
      "execution_count": null,
      "id": "78794c4d-4680-4abd-b83f-d60364e8130b",
      "metadata": {
        "id": "78794c4d-4680-4abd-b83f-d60364e8130b"
      },
      "outputs": [],
      "source": [
        "from sklearn.preprocessing import LabelEncoder\n",
        "le = LabelEncoder()\n",
        "x[:,0] = le.fit_transform(x[:,0])"
      ]
    },
    {
      "cell_type": "code",
      "execution_count": null,
      "id": "fd542c7a-4c5f-4528-aa56-818e6dc38570",
      "metadata": {
        "id": "fd542c7a-4c5f-4528-aa56-818e6dc38570"
      },
      "outputs": [],
      "source": [
        "from sklearn.model_selection import train_test_split"
      ]
    },
    {
      "cell_type": "code",
      "execution_count": null,
      "id": "c2d037e3-65e3-43fa-974c-973672243fce",
      "metadata": {
        "id": "c2d037e3-65e3-43fa-974c-973672243fce"
      },
      "outputs": [],
      "source": [
        "x_train, x_test, y_train, y_test = train_test_split(x, y, test_size = 0.2, random_state=42)"
      ]
    },
    {
      "cell_type": "code",
      "execution_count": null,
      "id": "764a00d8-b757-46c6-85ff-ebfe4020713b",
      "metadata": {
        "id": "764a00d8-b757-46c6-85ff-ebfe4020713b"
      },
      "outputs": [],
      "source": [
        "x_columns = ['age', 'g', 'gs', 'mp', 'fg', 'fga', 'fg.', 'x3p', 'x3pa', 'x3p.', 'x2p', 'x2pa', 'x2p.', 'efg.', 'ft', 'fta', 'ft.', 'orb', 'drb', 'trb', 'ast', 'stl', 'blk', 'tov', 'pf']\n",
        "y_column = ['pts']\n",
        "\n",
        "# Create the knn model.\n",
        "\n",
        "# Import necessary modules\n",
        "from sklearn.neighbors import KNeighborsClassifier\n",
        "# Look at the seven closest neighbors.\n",
        "knn = KNeighborsClassifier(n_neighbors=7)\n",
        " \n",
        "knn.fit(x_train, y_train)\n",
        "\n",
        "# Fit the model on the training data.\n",
        "\n",
        "# Make point predictions on the test set using the fit model.\n",
        "predicted = (knn.predict(x_test))"
      ]
    },
    {
      "cell_type": "code",
      "execution_count": null,
      "id": "3158d6fc-b09e-4a86-b83d-815ec43651e2",
      "metadata": {
        "id": "3158d6fc-b09e-4a86-b83d-815ec43651e2",
        "outputId": "02ecc92b-bedd-4097-db46-701df0600d5f"
      },
      "outputs": [
        {
          "name": "stdout",
          "output_type": "stream",
          "text": [
            "[ 346  306  630  174  448   25 1264  181  338   48  908  454   29  618\n",
            "    6   72   44  572  403   15   79  754  754  257  100  425 1119   14\n",
            "  799  929  213  137  132  470 1068  645  760 1227 1106  760  587  200\n",
            "   98  303 1457  298  799  298  546    7  257  810  916  338  630  258\n",
            "  703  448  530 1118 1011 1106 1106   54   14    7  824  200  339  529\n",
            "  499  200   40   14  132  495  761   15   54   84  461]\n"
          ]
        }
      ],
      "source": [
        "print(predicted)"
      ]
    },
    {
      "cell_type": "code",
      "execution_count": null,
      "id": "f3eb344c-9385-4ad7-bec1-8c6aad2a7710",
      "metadata": {
        "id": "f3eb344c-9385-4ad7-bec1-8c6aad2a7710"
      },
      "outputs": [],
      "source": [
        "actual = y_test"
      ]
    },
    {
      "cell_type": "code",
      "execution_count": null,
      "id": "bfc06295-dbf9-4dbb-aeec-63f1b2b7930b",
      "metadata": {
        "id": "bfc06295-dbf9-4dbb-aeec-63f1b2b7930b",
        "outputId": "21cda41d-c6fa-4c8e-e18c-25f5becb2884"
      },
      "outputs": [
        {
          "name": "stdout",
          "output_type": "stream",
          "text": [
            "[ 490  548  820  217  491   47 1737  202  520   18  961  527   26 1002\n",
            "   26  102   47  844  564   11  115  939 1028  302  140  622 1614    0\n",
            "  871 1107  248  144  171  638 1343  758  895 1372 1256  781  826  208\n",
            "  183  401 1791  252  911  393  814   39  338  738 1096  419  721  261\n",
            "  846  480  763 1328 1089 1248 1249   62    1   28 1144  202  436  770\n",
            "  665  250   68    1  194  701  891   26   74   75  603]\n"
          ]
        }
      ],
      "source": [
        "print(actual)"
      ]
    },
    {
      "cell_type": "code",
      "execution_count": null,
      "id": "c2d0a6f2-3a3c-4df1-861e-60420a4a79f4",
      "metadata": {
        "id": "c2d0a6f2-3a3c-4df1-861e-60420a4a79f4",
        "outputId": "936c4385-bbe2-4ea5-b200-dcc46451930a"
      },
      "outputs": [
        {
          "data": {
            "text/html": [
              "<div>\n",
              "<style scoped>\n",
              "    .dataframe tbody tr th:only-of-type {\n",
              "        vertical-align: middle;\n",
              "    }\n",
              "\n",
              "    .dataframe tbody tr th {\n",
              "        vertical-align: top;\n",
              "    }\n",
              "\n",
              "    .dataframe thead th {\n",
              "        text-align: right;\n",
              "    }\n",
              "</style>\n",
              "<table border=\"1\" class=\"dataframe\">\n",
              "  <thead>\n",
              "    <tr style=\"text-align: right;\">\n",
              "      <th></th>\n",
              "      <th>Actual Points</th>\n",
              "      <th>Predicted Points</th>\n",
              "    </tr>\n",
              "  </thead>\n",
              "  <tbody>\n",
              "    <tr>\n",
              "      <th>0</th>\n",
              "      <td>490</td>\n",
              "      <td>346</td>\n",
              "    </tr>\n",
              "    <tr>\n",
              "      <th>1</th>\n",
              "      <td>548</td>\n",
              "      <td>306</td>\n",
              "    </tr>\n",
              "    <tr>\n",
              "      <th>2</th>\n",
              "      <td>820</td>\n",
              "      <td>630</td>\n",
              "    </tr>\n",
              "    <tr>\n",
              "      <th>3</th>\n",
              "      <td>217</td>\n",
              "      <td>174</td>\n",
              "    </tr>\n",
              "    <tr>\n",
              "      <th>4</th>\n",
              "      <td>491</td>\n",
              "      <td>448</td>\n",
              "    </tr>\n",
              "    <tr>\n",
              "      <th>...</th>\n",
              "      <td>...</td>\n",
              "      <td>...</td>\n",
              "    </tr>\n",
              "    <tr>\n",
              "      <th>76</th>\n",
              "      <td>891</td>\n",
              "      <td>761</td>\n",
              "    </tr>\n",
              "    <tr>\n",
              "      <th>77</th>\n",
              "      <td>26</td>\n",
              "      <td>15</td>\n",
              "    </tr>\n",
              "    <tr>\n",
              "      <th>78</th>\n",
              "      <td>74</td>\n",
              "      <td>54</td>\n",
              "    </tr>\n",
              "    <tr>\n",
              "      <th>79</th>\n",
              "      <td>75</td>\n",
              "      <td>84</td>\n",
              "    </tr>\n",
              "    <tr>\n",
              "      <th>80</th>\n",
              "      <td>603</td>\n",
              "      <td>461</td>\n",
              "    </tr>\n",
              "  </tbody>\n",
              "</table>\n",
              "<p>81 rows × 2 columns</p>\n",
              "</div>"
            ],
            "text/plain": [
              "    Actual Points  Predicted Points\n",
              "0             490               346\n",
              "1             548               306\n",
              "2             820               630\n",
              "3             217               174\n",
              "4             491               448\n",
              "..            ...               ...\n",
              "76            891               761\n",
              "77             26                15\n",
              "78             74                54\n",
              "79             75                84\n",
              "80            603               461\n",
              "\n",
              "[81 rows x 2 columns]"
            ]
          },
          "execution_count": 45,
          "metadata": {},
          "output_type": "execute_result"
        }
      ],
      "source": [
        "Test_With_Predicted = pd.DataFrame({'Actual Points': y_test.tolist(), 'Predicted Points': (knn.predict(x_test)).tolist()})\n",
        "\n",
        "Test_With_Predicted"
      ]
    },
    {
      "cell_type": "markdown",
      "id": "80badc25-52e4-4151-a3f9-6a448bff849b",
      "metadata": {
        "id": "80badc25-52e4-4151-a3f9-6a448bff849b"
      },
      "source": [
        "## Computing the error using Mean Squared"
      ]
    },
    {
      "cell_type": "code",
      "execution_count": null,
      "id": "0fb45be2-57af-4bc4-b35d-399758cfd64f",
      "metadata": {
        "id": "0fb45be2-57af-4bc4-b35d-399758cfd64f"
      },
      "outputs": [],
      "source": [
        "mse = (((predicted - actual) ** 2).sum()) / len(predicted)"
      ]
    },
    {
      "cell_type": "code",
      "execution_count": null,
      "id": "f7da3c36-bd58-4881-a724-cf1858e03a7e",
      "metadata": {
        "id": "f7da3c36-bd58-4881-a724-cf1858e03a7e",
        "outputId": "c9704641-ce5b-4252-8ccb-a8ac421b4bf7"
      },
      "outputs": [
        {
          "name": "stdout",
          "output_type": "stream",
          "text": [
            "25240.913580246914\n"
          ]
        }
      ],
      "source": [
        "print(mse)"
      ]
    }
  ],
  "metadata": {
    "kernelspec": {
      "display_name": "Python 3 (ipykernel)",
      "language": "python",
      "name": "python3"
    },
    "language_info": {
      "codemirror_mode": {
        "name": "ipython",
        "version": 3
      },
      "file_extension": ".py",
      "mimetype": "text/x-python",
      "name": "python",
      "nbconvert_exporter": "python",
      "pygments_lexer": "ipython3",
      "version": "3.8.12"
    },
    "colab": {
      "name": "Assignment.ipynb",
      "provenance": []
    }
  },
  "nbformat": 4,
  "nbformat_minor": 5
}